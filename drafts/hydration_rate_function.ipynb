{
 "cells": [
  {
   "cell_type": "markdown",
   "id": "962e532f",
   "metadata": {
    "toc": true
   },
   "source": [
    "<h1>Table of Contents<span class=\"tocSkip\"></span></h1>\n",
    "<div class=\"toc\"><ul class=\"toc-item\"></ul></div>"
   ]
  },
  {
   "cell_type": "markdown",
   "id": "ef401405",
   "metadata": {},
   "source": [
    "Hydration calculations"
   ]
  },
  {
   "cell_type": "code",
   "execution_count": 2,
   "id": "75931f56",
   "metadata": {},
   "outputs": [],
   "source": [
    "from datetime import timedelta"
   ]
  },
  {
   "cell_type": "code",
   "execution_count": 23,
   "id": "00216d39",
   "metadata": {},
   "outputs": [],
   "source": [
    "weight = 75 #kg\n",
    "sweat_rate = 0.8 #liters/hour\n",
    "max_bw_loss = weight*0.02 #2% of BW\n",
    "duration = timedelta(seconds=(9*60*60))"
   ]
  },
  {
   "cell_type": "code",
   "execution_count": 4,
   "id": "0e39c2dc",
   "metadata": {},
   "outputs": [
    {
     "data": {
      "text/plain": [
       "datetime.timedelta(seconds=32400)"
      ]
     },
     "execution_count": 4,
     "metadata": {},
     "output_type": "execute_result"
    }
   ],
   "source": [
    "duration"
   ]
  },
  {
   "cell_type": "code",
   "execution_count": 10,
   "id": "5809fdfa",
   "metadata": {},
   "outputs": [],
   "source": [
    "total_sweat = (sweat_rate/60/60)*duration.seconds"
   ]
  },
  {
   "cell_type": "code",
   "execution_count": 11,
   "id": "a2bc3c75",
   "metadata": {},
   "outputs": [
    {
     "data": {
      "text/plain": [
       "10.799999999999999"
      ]
     },
     "execution_count": 11,
     "metadata": {},
     "output_type": "execute_result"
    }
   ],
   "source": [
    "total_sweat"
   ]
  },
  {
   "cell_type": "code",
   "execution_count": 13,
   "id": "127cecc7",
   "metadata": {},
   "outputs": [
    {
     "data": {
      "text/plain": [
       "1.5"
      ]
     },
     "execution_count": 13,
     "metadata": {},
     "output_type": "execute_result"
    }
   ],
   "source": [
    "max_bw_loss"
   ]
  },
  {
   "cell_type": "code",
   "execution_count": 14,
   "id": "320bd1ce",
   "metadata": {},
   "outputs": [],
   "source": [
    "liquid_to_replenish = total_sweat-max_bw_loss"
   ]
  },
  {
   "cell_type": "code",
   "execution_count": 15,
   "id": "091d2032",
   "metadata": {},
   "outputs": [
    {
     "data": {
      "text/plain": [
       "9.299999999999999"
      ]
     },
     "execution_count": 15,
     "metadata": {},
     "output_type": "execute_result"
    }
   ],
   "source": [
    "liquid_to_replenish"
   ]
  },
  {
   "cell_type": "code",
   "execution_count": 16,
   "id": "f52231d9",
   "metadata": {},
   "outputs": [],
   "source": [
    "target_hydration_rate = (liquid_to_replenish/duration.seconds)*60*60"
   ]
  },
  {
   "cell_type": "code",
   "execution_count": 17,
   "id": "2b601eb0",
   "metadata": {},
   "outputs": [
    {
     "data": {
      "text/plain": [
       "1.0333333333333332"
      ]
     },
     "execution_count": 17,
     "metadata": {},
     "output_type": "execute_result"
    }
   ],
   "source": [
    "target_hydration_rate"
   ]
  },
  {
   "cell_type": "code",
   "execution_count": 18,
   "id": "6f0dc5b9",
   "metadata": {},
   "outputs": [],
   "source": [
    "def get_hydration_rate(weight, duration, sweat_rate):\n",
    "    total_sweat = (sweat_rate/60/60)*duration.seconds\n",
    "    max_bw_loss = weight*0.02\n",
    "    liquid_to_replenish = total_sweat-max_bw_loss\n",
    "    target_hydration_rate = (liquid_to_replenish/duration.seconds)*60*60\n",
    "    return target_hydration_rate"
   ]
  },
  {
   "cell_type": "code",
   "execution_count": 21,
   "id": "88debced",
   "metadata": {},
   "outputs": [
    {
     "name": "stdout",
     "output_type": "stream",
     "text": [
      "0.6444444444444444\n"
     ]
    }
   ],
   "source": [
    "print(get_hydration_rate(weight, duration, sweat_rate))"
   ]
  },
  {
   "cell_type": "code",
   "execution_count": 24,
   "id": "d084a3d9",
   "metadata": {},
   "outputs": [
    {
     "data": {
      "text/plain": [
       "765.0000000000001"
      ]
     },
     "execution_count": 24,
     "metadata": {},
     "output_type": "execute_result"
    }
   ],
   "source": [
    "10*weight*0.034*30"
   ]
  },
  {
   "cell_type": "code",
   "execution_count": null,
   "id": "fe77fd5b",
   "metadata": {},
   "outputs": [],
   "source": []
  }
 ],
 "metadata": {
  "kernelspec": {
   "display_name": "Python 3 (ipykernel)",
   "language": "python",
   "name": "python3"
  },
  "language_info": {
   "codemirror_mode": {
    "name": "ipython",
    "version": 3
   },
   "file_extension": ".py",
   "mimetype": "text/x-python",
   "name": "python",
   "nbconvert_exporter": "python",
   "pygments_lexer": "ipython3",
   "version": "3.9.13"
  },
  "toc": {
   "base_numbering": 1,
   "nav_menu": {},
   "number_sections": true,
   "sideBar": true,
   "skip_h1_title": true,
   "title_cell": "Table of Contents",
   "title_sidebar": "Contents",
   "toc_cell": true,
   "toc_position": {},
   "toc_section_display": true,
   "toc_window_display": false
  }
 },
 "nbformat": 4,
 "nbformat_minor": 5
}
