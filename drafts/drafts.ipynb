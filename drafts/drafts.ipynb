{
 "cells": [
  {
   "cell_type": "markdown",
   "id": "38f2b9c4",
   "metadata": {
    "toc": true
   },
   "source": [
    "<h1>Table of Contents<span class=\"tocSkip\"></span></h1>\n",
    "<div class=\"toc\"><ul class=\"toc-item\"></ul></div>"
   ]
  },
  {
   "cell_type": "code",
   "execution_count": 1,
   "id": "25bc1f82",
   "metadata": {},
   "outputs": [],
   "source": [
    "#distances\n",
    "\n",
    "swim_distance = 1900 #in meters\n",
    "bike_distance = 90 #in km\n",
    "run_distance = 21 #in km\n",
    "\n",
    "swim_pace = '2:30' #per 100 m\n",
    "bike_avg_speed = 35 #kph\n",
    "run_pace = '6:30' #per 1km\n",
    "\n"
   ]
  },
  {
   "cell_type": "code",
   "execution_count": 2,
   "id": "976f1f7f",
   "metadata": {},
   "outputs": [],
   "source": [
    "#calculate total time to complete\n",
    "\n",
    "distance = [swim_distance, bike_distance, run_distance]\n",
    "\n",
    "def pace_to_speed(pace_string):\n",
    "    pace = pace_string.split(':')\n",
    "    t = int(pace[0])*60+int(pace[1])\n",
    "    return t\n",
    "\n",
    "def swim_time(swim_pace, swim_distance):\n",
    "    pace_list = swim_pace.split(':')\n",
    "    pace_seconds = int(pace_list[0])*60+int(pace_list[1])\n",
    "    t = ((swim_distance/100)*pace_seconds)/60\n",
    "    \n",
    "    return t"
   ]
  },
  {
   "cell_type": "code",
   "execution_count": 3,
   "id": "9172a4d5",
   "metadata": {},
   "outputs": [
    {
     "data": {
      "text/plain": [
       "47.5"
      ]
     },
     "execution_count": 3,
     "metadata": {},
     "output_type": "execute_result"
    }
   ],
   "source": [
    "swim_time(swim_pace, swim_distance)"
   ]
  },
  {
   "cell_type": "code",
   "execution_count": 4,
   "id": "24a6670d",
   "metadata": {},
   "outputs": [],
   "source": [
    "from datetime import timedelta"
   ]
  },
  {
   "cell_type": "code",
   "execution_count": 5,
   "id": "ce93789b",
   "metadata": {},
   "outputs": [],
   "source": [
    "#swim_pace = timedelta(minutes=2,seconds=30)"
   ]
  },
  {
   "cell_type": "code",
   "execution_count": 6,
   "id": "9add4401",
   "metadata": {},
   "outputs": [
    {
     "name": "stdout",
     "output_type": "stream",
     "text": [
      "2:30\n"
     ]
    }
   ],
   "source": [
    "print(swim_pace)"
   ]
  },
  {
   "cell_type": "code",
   "execution_count": 7,
   "id": "c5a7a840",
   "metadata": {
    "scrolled": true
   },
   "outputs": [],
   "source": [
    "total_swim_time = swim_pace*19"
   ]
  },
  {
   "cell_type": "code",
   "execution_count": 8,
   "id": "02c1d37e",
   "metadata": {},
   "outputs": [
    {
     "ename": "AttributeError",
     "evalue": "'str' object has no attribute 'seconds'",
     "output_type": "error",
     "traceback": [
      "\u001b[0;31m---------------------------------------------------------------------------\u001b[0m",
      "\u001b[0;31mAttributeError\u001b[0m                            Traceback (most recent call last)",
      "\u001b[0;32m/var/folders/hd/rx27h3px53j16p51j58vw6jr0000gn/T/ipykernel_8613/1870284135.py\u001b[0m in \u001b[0;36m<module>\u001b[0;34m\u001b[0m\n\u001b[0;32m----> 1\u001b[0;31m \u001b[0mtotal_swim_time\u001b[0m\u001b[0;34m.\u001b[0m\u001b[0mseconds\u001b[0m\u001b[0;34m/\u001b[0m\u001b[0;36m60\u001b[0m\u001b[0;34m\u001b[0m\u001b[0;34m\u001b[0m\u001b[0m\n\u001b[0m",
      "\u001b[0;31mAttributeError\u001b[0m: 'str' object has no attribute 'seconds'"
     ]
    }
   ],
   "source": [
    "total_swim_time.seconds/60"
   ]
  },
  {
   "cell_type": "code",
   "execution_count": null,
   "id": "2a4c5a12",
   "metadata": {},
   "outputs": [],
   "source": [
    "total_swim_time.seconds"
   ]
  },
  {
   "cell_type": "code",
   "execution_count": null,
   "id": "f3cc32aa",
   "metadata": {},
   "outputs": [],
   "source": [
    "def get_estimated_swim_time(swim_pace, swim_distance):\n",
    "    pace_list = swim_pace.split(':')\n",
    "    pace_td = timedelta(minutes=int(pace_list[0]),seconds=int(pace_list[1]))\n",
    "    return (swim_distance/100)*pace_td.seconds"
   ]
  },
  {
   "cell_type": "code",
   "execution_count": null,
   "id": "abd59c58",
   "metadata": {},
   "outputs": [],
   "source": [
    "total_swim_time = get_estimated_swim_time(swim_pace, swim_distance)"
   ]
  },
  {
   "cell_type": "code",
   "execution_count": null,
   "id": "8f1fc032",
   "metadata": {},
   "outputs": [],
   "source": [
    "print(total_swim_time)"
   ]
  },
  {
   "cell_type": "code",
   "execution_count": null,
   "id": "776a84a2",
   "metadata": {},
   "outputs": [],
   "source": [
    "def get_estimated_bike_time(bike_avg_speed, bike_distance):\n",
    "    return (bike_distance/bike_avg_speed)*60*60"
   ]
  },
  {
   "cell_type": "code",
   "execution_count": null,
   "id": "beb06fc5",
   "metadata": {},
   "outputs": [],
   "source": [
    "total_bike_time = get_estimated_bike_time(bike_avg_speed, bike_distance)"
   ]
  },
  {
   "cell_type": "code",
   "execution_count": null,
   "id": "71086b32",
   "metadata": {},
   "outputs": [],
   "source": [
    "print(total_bike_time)"
   ]
  },
  {
   "cell_type": "code",
   "execution_count": null,
   "id": "074241e0",
   "metadata": {},
   "outputs": [],
   "source": [
    "def get_estimated_run_time(run_pace, run_distance):\n",
    "    pace_list = run_pace.split(':')\n",
    "    pace_td = timedelta(minutes=int(pace_list[0]),seconds=int(pace_list[1]))\n",
    "    return run_distance*pace_td.seconds"
   ]
  },
  {
   "cell_type": "code",
   "execution_count": null,
   "id": "b067a9c0",
   "metadata": {},
   "outputs": [],
   "source": [
    "total_run_time = get_estimated_run_time(run_pace, run_distance)"
   ]
  },
  {
   "cell_type": "code",
   "execution_count": null,
   "id": "5201077d",
   "metadata": {},
   "outputs": [],
   "source": [
    "print(total_run_time)"
   ]
  },
  {
   "cell_type": "code",
   "execution_count": null,
   "id": "db347f05",
   "metadata": {},
   "outputs": [],
   "source": [
    "t1_time = '4:00'\n",
    "t2_time = '3:00'"
   ]
  },
  {
   "cell_type": "code",
   "execution_count": null,
   "id": "3a56ab44",
   "metadata": {},
   "outputs": [],
   "source": [
    "def get_estimated_transition_time(t_time):\n",
    "    time_list = t_time.split(':')\n",
    "    time_td = timedelta(minutes=int(time_list[0]),seconds=int(time_list[1]))\n",
    "    return time_td.seconds"
   ]
  },
  {
   "cell_type": "code",
   "execution_count": null,
   "id": "1b2e9871",
   "metadata": {},
   "outputs": [],
   "source": [
    "transition_one_time = get_estimated_transition_time(t1_time)\n",
    "transition_two_time = get_estimated_transition_time(t2_time)"
   ]
  },
  {
   "cell_type": "code",
   "execution_count": null,
   "id": "66c7e7f8",
   "metadata": {},
   "outputs": [],
   "source": [
    "print(transition_one_time)"
   ]
  },
  {
   "cell_type": "code",
   "execution_count": null,
   "id": "4be5f77a",
   "metadata": {},
   "outputs": [],
   "source": [
    "print(transition_two_time)"
   ]
  },
  {
   "cell_type": "code",
   "execution_count": null,
   "id": "81d2f8cb",
   "metadata": {},
   "outputs": [],
   "source": [
    "def get_total_tri_race_time(swim_time, t1_time, bike_time, t2_time, run_time):\n",
    "    l = [swim_time, t1_time, bike_time, t2_time, run_time]\n",
    "    l.append(sum(l))\n",
    "    return l"
   ]
  },
  {
   "cell_type": "code",
   "execution_count": null,
   "id": "0b7c16ff",
   "metadata": {},
   "outputs": [],
   "source": [
    "total_race_time = get_total_tri_race_time(total_swim_time, transition_one_time, total_bike_time, transition_two_time, total_run_time)"
   ]
  },
  {
   "cell_type": "code",
   "execution_count": null,
   "id": "2c23f3ad",
   "metadata": {},
   "outputs": [],
   "source": [
    "str(timedelta(seconds=total_race_time[-1]))"
   ]
  },
  {
   "cell_type": "code",
   "execution_count": 12,
   "id": "4118f74e",
   "metadata": {},
   "outputs": [
    {
     "name": "stdout",
     "output_type": "stream",
     "text": [
      "4:44:36\n"
     ]
    }
   ],
   "source": [
    "input = 17076.0\n",
    "\n",
    "print(timedelta(seconds = input))"
   ]
  },
  {
   "cell_type": "code",
   "execution_count": null,
   "id": "208da01e",
   "metadata": {},
   "outputs": [],
   "source": []
  }
 ],
 "metadata": {
  "kernelspec": {
   "display_name": "Python 3 (ipykernel)",
   "language": "python",
   "name": "python3"
  },
  "language_info": {
   "codemirror_mode": {
    "name": "ipython",
    "version": 3
   },
   "file_extension": ".py",
   "mimetype": "text/x-python",
   "name": "python",
   "nbconvert_exporter": "python",
   "pygments_lexer": "ipython3",
   "version": "3.9.13"
  },
  "toc": {
   "base_numbering": 1,
   "nav_menu": {},
   "number_sections": true,
   "sideBar": true,
   "skip_h1_title": true,
   "title_cell": "Table of Contents",
   "title_sidebar": "Contents",
   "toc_cell": true,
   "toc_position": {},
   "toc_section_display": true,
   "toc_window_display": false
  }
 },
 "nbformat": 4,
 "nbformat_minor": 5
}
