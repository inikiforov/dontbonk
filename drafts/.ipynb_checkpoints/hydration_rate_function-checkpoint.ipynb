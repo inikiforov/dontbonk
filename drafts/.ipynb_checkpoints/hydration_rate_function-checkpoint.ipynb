{
 "cells": [
  {
   "cell_type": "markdown",
   "id": "80c9ebe6",
   "metadata": {
    "toc": true
   },
   "source": [
    "<h1>Table of Contents<span class=\"tocSkip\"></span></h1>\n",
    "<div class=\"toc\"><ul class=\"toc-item\"></ul></div>"
   ]
  },
  {
   "cell_type": "markdown",
   "id": "d4d40d4f",
   "metadata": {},
   "source": [
    "Hydration calculations"
   ]
  },
  {
   "cell_type": "code",
   "execution_count": null,
   "id": "9f22dc99",
   "metadata": {},
   "outputs": [],
   "source": [
    "from datetime import timedelta"
   ]
  },
  {
   "cell_type": "code",
   "execution_count": 1,
   "id": "d2bb4b08",
   "metadata": {},
   "outputs": [
    {
     "ename": "SyntaxError",
     "evalue": "invalid syntax (3864334055.py, line 4)",
     "output_type": "error",
     "traceback": [
      "\u001b[0;36m  File \u001b[0;32m\"/var/folders/hd/rx27h3px53j16p51j58vw6jr0000gn/T/ipykernel_30121/3864334055.py\"\u001b[0;36m, line \u001b[0;32m4\u001b[0m\n\u001b[0;31m    duration =\u001b[0m\n\u001b[0m               ^\u001b[0m\n\u001b[0;31mSyntaxError\u001b[0m\u001b[0;31m:\u001b[0m invalid syntax\n"
     ]
    }
   ],
   "source": [
    "weight = 75 #kg\n",
    "sweat_rate = 1.2 #liters/hour\n",
    "max_bw_loss = 0.02 #2% of BW\n",
    "duration = "
   ]
  },
  {
   "cell_type": "code",
   "execution_count": null,
   "id": "b79325b7",
   "metadata": {},
   "outputs": [],
   "source": []
  }
 ],
 "metadata": {
  "kernelspec": {
   "display_name": "Python 3 (ipykernel)",
   "language": "python",
   "name": "python3"
  },
  "language_info": {
   "codemirror_mode": {
    "name": "ipython",
    "version": 3
   },
   "file_extension": ".py",
   "mimetype": "text/x-python",
   "name": "python",
   "nbconvert_exporter": "python",
   "pygments_lexer": "ipython3",
   "version": "3.9.13"
  },
  "toc": {
   "base_numbering": 1,
   "nav_menu": {},
   "number_sections": true,
   "sideBar": true,
   "skip_h1_title": true,
   "title_cell": "Table of Contents",
   "title_sidebar": "Contents",
   "toc_cell": true,
   "toc_position": {},
   "toc_section_display": true,
   "toc_window_display": false
  }
 },
 "nbformat": 4,
 "nbformat_minor": 5
}
