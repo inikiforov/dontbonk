{
 "cells": [
  {
   "cell_type": "markdown",
   "id": "0cc4659e",
   "metadata": {
    "toc": true
   },
   "source": [
    "<h1>Table of Contents<span class=\"tocSkip\"></span></h1>\n",
    "<div class=\"toc\"><ul class=\"toc-item\"></ul></div>"
   ]
  },
  {
   "cell_type": "markdown",
   "id": "5dd5e3f3",
   "metadata": {},
   "source": [
    "This is a draft of how an algorythm could look for estimating a nutrition plan based on selected products"
   ]
  },
  {
   "cell_type": "code",
   "execution_count": null,
   "id": "8861870f",
   "metadata": {},
   "outputs": [],
   "source": [
    "maurten_drink = {\n",
    "    'name':'maurten_drink',\n",
    "    'calories': 320,\n",
    "    'carbs': 79,\n",
    "    'liquid': 500,\n",
    "    'sodium': 250,\n",
    "    'caffene': 100\n",
    "}\n",
    "\n",
    "maurten_gel = {\n",
    "    'name':'maurten_gel',\n",
    "    'calories': 100,\n",
    "    'carbs': 25,\n",
    "    'liquid': 0,\n",
    "    'sodium': 22,\n",
    "    'caffene': 100\n",
    "}\n",
    "\n",
    "drink = {\n",
    "    'name':'gu_salt_tabs',\n",
    "    'calories':10,\n",
    "    'carbs':0,\n",
    "    'sodium':320,\n",
    "    'liquid':500,\n",
    "    'caffene':0\n",
    "    \n",
    "}"
   ]
  },
  {
   "cell_type": "code",
   "execution_count": 122,
   "id": "a1e4e43c",
   "metadata": {},
   "outputs": [],
   "source": [
    "def tenth_of(product):\n",
    "    for i in product:\n",
    "        if isinstance(product[i], int):\n",
    "            product[i] = product[i]//10\n",
    "    product['name']='1/10 '+product['name']\n",
    "    return product"
   ]
  },
  {
   "cell_type": "code",
   "execution_count": 24,
   "id": "4cfccabc",
   "metadata": {},
   "outputs": [],
   "source": [
    "target = {\n",
    "    'carbs':355,\n",
    "    'calories':1423,\n",
    "    'liquid':3386\n",
    "}\n",
    "\n",
    "time = {\n",
    "    'swim':38*60,\n",
    "    'bike': 125*60,\n",
    "    'run': 135*60\n",
    "}\n",
    "\n",
    "intake_rate = {\n",
    "    'carbs':75,\n",
    "    'calories':300,\n",
    "    'liquid': 500\n",
    "}\n",
    "\n",
    "consumption_rates = {\n",
    "    'bike':[90, 350, 750],\n",
    "    'run':[60, 250, 500]\n",
    "}"
   ]
  },
  {
   "cell_type": "code",
   "execution_count": 129,
   "id": "53419dce",
   "metadata": {},
   "outputs": [],
   "source": [
    "plan = {\n",
    "    'drink':[],\n",
    "    'food':[],\n",
    "    'liquid':0,\n",
    "    'caffene':0,\n",
    "    'carbs':0,\n",
    "    'calories':0,\n",
    "    'sodium':0,\n",
    "    \n",
    "}\n",
    "\n",
    "target = {\n",
    "    'carbs':355,\n",
    "    'calories':1423,\n",
    "    'liquid':3386,\n",
    "    'sodium':0\n",
    "}\n",
    "\n",
    "storage_limits = {\n",
    "    'bike_liquid': 1000,\n",
    "    'bike_liquid_sodium':1000,\n",
    "    'run_liquid': 1000\n",
    "}"
   ]
  },
  {
   "cell_type": "code",
   "execution_count": 97,
   "id": "d87f97eb",
   "metadata": {},
   "outputs": [],
   "source": [
    "product_set = {\n",
    "    'drink':maurten_drink,\n",
    "    'food':maurten_gel\n",
    "}"
   ]
  },
  {
   "cell_type": "code",
   "execution_count": 112,
   "id": "039ac1df",
   "metadata": {},
   "outputs": [],
   "source": [
    "#function to add a single serving of any product in 2 categories \"drink\" or 'food' \n",
    "    \n",
    "def add_serving(plan, category, product):\n",
    "    for i in product:\n",
    "        if isinstance(product[i], int):\n",
    "            plan[i] = plan[i]+product[i]\n",
    "        elif i == 'name':\n",
    "            plan[category].append(product[i])\n",
    "            print(product[i], 'added to plan')\n",
    "\n",
    "    return plan"
   ]
  },
  {
   "cell_type": "code",
   "execution_count": 95,
   "id": "4fee7784",
   "metadata": {},
   "outputs": [],
   "source": [
    "def load_carbs(plan, product):\n",
    "    while plan['carbs']+product['carbs']<target['carbs']:\n",
    "        add_serving(plan, 'drink', product)\n",
    "    return plan\n",
    "\n",
    "def load_calories(plan, product):\n",
    "    while plan['calories']+product['calories']<target['calories']:\n",
    "        add_serving(plan, 'drink', product)\n",
    "    return plan"
   ]
  },
  {
   "cell_type": "code",
   "execution_count": 113,
   "id": "e6638c2a",
   "metadata": {},
   "outputs": [],
   "source": [
    "def load_carb_priority(plan, product_set, target, storage_limits):\n",
    "    while plan['carbs']+product_set['drink']['carbs']<=target['carbs'] and plan['liquid']+product_set['drink']['liquid']<=storage_limits['bike_liquid']:\n",
    "        add_serving(plan, 'drink', product_set['drink'])\n",
    "    if plan['liquid']==storage_limits['bike_liquid']:\n",
    "        while plan['carbs']+product_set['food']['carbs']<=target['carbs'] and plan['calories']+product_set['food']['calories']<=target['calories']:\n",
    "            add_serving(plan, 'food', product_set['food'])\n",
    "    return plan"
   ]
  },
  {
   "cell_type": "code",
   "execution_count": 130,
   "id": "1d97d922",
   "metadata": {
    "scrolled": true
   },
   "outputs": [
    {
     "name": "stdout",
     "output_type": "stream",
     "text": [
      "maurten_drink added to plan\n",
      "maurten_drink added to plan\n",
      "maurten_gel added to plan\n",
      "maurten_gel added to plan\n",
      "maurten_gel added to plan\n",
      "maurten_gel added to plan\n",
      "maurten_gel added to plan\n",
      "maurten_gel added to plan\n",
      "maurten_gel added to plan\n",
      "{'drink': ['maurten_drink', 'maurten_drink'], 'food': ['maurten_gel', 'maurten_gel', 'maurten_gel', 'maurten_gel', 'maurten_gel', 'maurten_gel', 'maurten_gel'], 'liquid': 1000, 'caffene': 900, 'carbs': 333, 'calories': 1340, 'sodium': 654}\n"
     ]
    }
   ],
   "source": [
    "print(load_carb_priority(plan, product_set, target, storage_limits))"
   ]
  },
  {
   "cell_type": "code",
   "execution_count": 139,
   "id": "b056cf42",
   "metadata": {},
   "outputs": [],
   "source": [
    "    plan = {\n",
    "        'drink':[],\n",
    "        'food':[],\n",
    "        'liquid':0,\n",
    "        'caffene':0,\n",
    "        'carbs':0,\n",
    "        'calories':0,\n",
    "        'sodium':0,\n",
    "    }\n",
    "    \n",
    "\n",
    "def plan_bike(product_set, target, storage_limits):\n",
    "    \n",
    "\n",
    "\n",
    "    \n",
    "    while plan['carbs']+product_set['drink']['carbs']<=target['carbs'] and plan['liquid']+product_set['drink']['liquid']<=storage_limits['bike_liquid']:\n",
    "        add_serving(plan, 'drink', product_set['drink'])\n",
    "\n",
    "    \n",
    "    if plan['liquid']==storage_limits['bike_liquid']:\n",
    "        while plan['carbs']+product_set['food']['carbs']<=target['carbs'] and plan['calories']+product_set['food']['calories']<=target['calories']:\n",
    "            add_serving(plan, 'food', product_set['food'])\n",
    "    \n",
    "    return plan"
   ]
  },
  {
   "cell_type": "code",
   "execution_count": null,
   "id": "ddde0f65",
   "metadata": {},
   "outputs": [],
   "source": [
    "def load_run_carb_priority(plan, product_set, target, storage_limits):\n",
    "    while plan['carbs']+product_set['drink']['carbs']<=target['carbs'] and plan['liquid']+product_set['drink']['liquid']<=storage_limits['run_liquid']:\n",
    "        add_serving(plan, 'drink', product_set['drink'])\n",
    "    if plan['liquid']==storage_limits['bike_liquid']:\n",
    "        while plan['carbs']+product_set['food']['carbs']<=target['carbs'] and plan['calories']+product_set['food']['calories']<=target['calories']:\n",
    "            add_serving(plan, 'food', product_set['food'])\n",
    "    return plan"
   ]
  },
  {
   "cell_type": "code",
   "execution_count": 123,
   "id": "10537186",
   "metadata": {},
   "outputs": [],
   "source": [
    "#input array:\n",
    "#[total_carbs, total_liquid, bike_carbs_target, bike_liquid_target, run_carbs_target, run_liquid_target]\n",
    "\n"
   ]
  },
  {
   "cell_type": "code",
   "execution_count": 124,
   "id": "99e3c796",
   "metadata": {
    "scrolled": true
   },
   "outputs": [
    {
     "name": "stdout",
     "output_type": "stream",
     "text": [
      "{'name': '1/10 maurten_drink', 'calories': 32, 'carbs': 7, 'liquid': 50, 'sodium': 25, 'caffene': 10}\n"
     ]
    }
   ],
   "source": [
    "print(tenth_of(maurten_drink))"
   ]
  },
  {
   "cell_type": "code",
   "execution_count": 140,
   "id": "01929755",
   "metadata": {
    "scrolled": false
   },
   "outputs": [],
   "source": [
    "print(plan_bike(product_set,target,storage_limits))"
   ]
  },
  {
   "cell_type": "code",
   "execution_count": null,
   "id": "56d04533",
   "metadata": {},
   "outputs": [],
   "source": []
  }
 ],
 "metadata": {
  "kernelspec": {
   "display_name": "Python 3 (ipykernel)",
   "language": "python",
   "name": "python3"
  },
  "language_info": {
   "codemirror_mode": {
    "name": "ipython",
    "version": 3
   },
   "file_extension": ".py",
   "mimetype": "text/x-python",
   "name": "python",
   "nbconvert_exporter": "python",
   "pygments_lexer": "ipython3",
   "version": "3.9.13"
  },
  "toc": {
   "base_numbering": 1,
   "nav_menu": {},
   "number_sections": true,
   "sideBar": true,
   "skip_h1_title": true,
   "title_cell": "Table of Contents",
   "title_sidebar": "Contents",
   "toc_cell": true,
   "toc_position": {},
   "toc_section_display": true,
   "toc_window_display": false
  }
 },
 "nbformat": 4,
 "nbformat_minor": 5
}
